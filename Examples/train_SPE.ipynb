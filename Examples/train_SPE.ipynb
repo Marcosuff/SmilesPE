{
 "cells": [
  {
   "cell_type": "code",
   "execution_count": 1,
   "metadata": {},
   "outputs": [],
   "source": [
    "# import sys\n",
    "# sys.path.append('..')\n",
    "\n",
    "from SmilesPE.pretokenizer import *\n",
    "from SmilesPE.learner import *"
   ]
  },
  {
   "cell_type": "markdown",
   "metadata": {},
   "source": [
    "Download the Curated [ChEMBL25](https://github.com/XinhaoLi74/molds/blob/master/clean_data/clean_chembl25.zip) and unzip it."
   ]
  },
  {
   "cell_type": "code",
   "execution_count": 2,
   "metadata": {},
   "outputs": [
    {
     "name": "stdout",
     "output_type": "stream",
     "text": [
      "Number of SMILES: 1789388\n"
     ]
    }
   ],
   "source": [
    "file_name = \"./clean_chembl25.smi\"\n",
    "\n",
    "with open(file_name, \"r\") as ins:\n",
    "    SMILES = []\n",
    "    for line in ins:\n",
    "        SMILES.append(line.split('\\n')[0])\n",
    "print('Number of SMILES:', len(SMILES))"
   ]
  },
  {
   "cell_type": "code",
   "execution_count": null,
   "metadata": {},
   "outputs": [
    {
     "name": "stdout",
     "output_type": "stream",
     "text": [
      "Counting SMILES...\n",
      "1695655 unique Canonical SMILES\n",
      "Augmenting SMILES...(5 times)\n"
     ]
    },
    {
     "data": {
      "text/html": [],
      "text/plain": [
       "<IPython.core.display.HTML object>"
      ]
     },
     "metadata": {},
     "output_type": "display_data"
    },
    {
     "name": "stdout",
     "output_type": "stream",
     "text": [
      "10484135 unique SMILES (Canonical + Augmented)\n",
      "Gettting Pair Statistics\n"
     ]
    },
    {
     "data": {
      "text/html": [
       "\n",
       "    <div>\n",
       "        <style>\n",
       "            /* Turns off some styling */\n",
       "            progress {\n",
       "                /* gets rid of default border in Firefox and Opera. */\n",
       "                border: none;\n",
       "                /* Needs to be in here for Safari polyfill so background images work as expected. */\n",
       "                background-size: auto;\n",
       "            }\n",
       "            .progress-bar-interrupted, .progress-bar-interrupted::-webkit-progress-bar {\n",
       "                background: #F44336;\n",
       "            }\n",
       "        </style>\n",
       "      <progress value='10484135' class='' max='10484135', style='width:300px; height:20px; vertical-align: middle;'></progress>\n",
       "      100.00% [10484135/10484135 04:02<00:00]\n",
       "    </div>\n",
       "    "
      ],
      "text/plain": [
       "<IPython.core.display.HTML object>"
      ]
     },
     "metadata": {},
     "output_type": "display_data"
    },
    {
     "name": "stderr",
     "output_type": "stream",
     "text": [
      "Number of unique characters & Reducing number of merge operations by: 116\n",
      "Unique characters: {'[SiH2]', '2', 'I', 'p', '[Ag-3]', '/', '%11', '[C@@]', '[s+]', '8', '[Cl+2]', 'C', '[Si@@]', '[I+2]', 'F', '[Na]', '[P@@+]', '[PH]', 'S', '[As+]', 'n', '[Se]', '[CH2-]', '[IH2]', '[n+]', '[c+]', '[nH]', '[H]', '[O+]', '[te]', '[B@-]', '[BH3-]', '[S+]', '[N+]', '(', ')', '[SH]', '[nH+]', '[Se+]', '[N-]', '3', '-', '9', 'B', '7', 'Cl', '[C-]', '[B]', 'P', '[Te]', '[BH2-]', '[S@@]', '[B-]', '[Si@]', '[BH-]', '[c-]', '[CH]', '#', '[I+3]', '[As]', '[O]', '[N@+]', '[C+]', '[se]', '[NH2+]', '[C]', '[AsH]', '[P+]', '[B@@-]', '[O-]', '[b-]', '1', '[te+]', '%10', '%12', '[o+]', 'b', '[cH-]', '[SH+]', '[P@+]', 'c', '[C@]', 'N', '[NH+]', '[SeH]', '[Br+2]', '[OH+]', '4', 'Br', '[Si]', '[C@@H]', '[N@@+]', '5', '[se+]', '[CH2]', '[Zn]', '[N]', 'O', '=', '[I+]', '[Cl+3]', '[NH-]', '[SiH]', 'o', '6', '[S@]', '[P@]', '[S@+]', '[SH2]', '[C@H]', '[S-]', 's', '[n-]', '\\\\', '[P@@]', '[S@@+]'}\n",
      "pair 0: c c -> cc (frequency 52828250)\n",
      "pair 1: C C -> CC (frequency 23872559)\n"
     ]
    }
   ],
   "source": [
    "import codecs\n",
    "output = codecs.open('../SPE_ChEMBL.txt', 'w')\n",
    "learn_SPE(SMILES, output, 30000, min_frequency=2000, augmentation=5, verbose=True, total_symbols=True)"
   ]
  }
 ],
 "metadata": {
  "kernelspec": {
   "display_name": "Python 3",
   "language": "python",
   "name": "python3"
  },
  "language_info": {
   "codemirror_mode": {
    "name": "ipython",
    "version": 3
   },
   "file_extension": ".py",
   "mimetype": "text/x-python",
   "name": "python",
   "nbconvert_exporter": "python",
   "pygments_lexer": "ipython3",
   "version": "3.6.7"
  }
 },
 "nbformat": 4,
 "nbformat_minor": 4
}
