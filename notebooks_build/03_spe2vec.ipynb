{
 "cells": [
  {
   "cell_type": "code",
   "execution_count": null,
   "metadata": {},
   "outputs": [],
   "source": [
    "# default_exp spe2vec"
   ]
  },
  {
   "cell_type": "markdown",
   "metadata": {},
   "source": [
    "# SPE2Vec\n",
    "\n",
    ">  "
   ]
  },
  {
   "cell_type": "code",
   "execution_count": null,
   "metadata": {},
   "outputs": [],
   "source": [
    "#hide\n",
    "from nbdev.showdoc import *"
   ]
  },
  {
   "cell_type": "code",
   "execution_count": null,
   "metadata": {},
   "outputs": [],
   "source": [
    "#export\n",
    "import os\n",
    "import gensim\n",
    "\n",
    "class Corpus(object):\n",
    "    '''\n",
    "    *filename*: A file that stores SMILES line-by-line.\n",
    "    *tokenizer*: SPE tokenizer\n",
    "    *dropout*: SPE dropout, default = 0\n",
    "    '''\n",
    "    def __init__(self, infile, tokenizer, isdir=False, dropout=0):\n",
    "        self.infile = infile\n",
    "        self.tokenizer = tokenizer\n",
    "        self.dropout = dropout\n",
    "        self.isdir = isdir\n",
    " \n",
    "    def __iter__(self):\n",
    "        if self.isdir:\n",
    "            for fname in os.listdir(self.infile):\n",
    "                for smi in open(os.path.join(self.infile, fname)):\n",
    "                    yield self.tokenizer.tokenize(smi, dropout=self.dropout).split(' ')\n",
    "        else:\n",
    "            for smi in open(self.infile):\n",
    "                yield self.tokenizer.tokenize(smi, dropout=self.dropout).split(' ')\n",
    "    \n",
    "def learn_spe2vec(corpus, outfile=None, \n",
    "                  vector_size=100, window=10, min_count=10, n_jobs = 1, method = 'skip-gram', \n",
    "                  **kwargs):\n",
    "    '''\n",
    "    Train a spe2vec model.\n",
    "    \n",
    "    *corpus*: an instance of `Class Corpus()`\n",
    "    *outfile*: str, name of the spe2vec model file.\n",
    "    *vector_size*: dimensions of embedding.\n",
    "    *window*: number of tokens considered as context\n",
    "    *min_count*: number of occurrences a token should have to be considered in training\n",
    "    *n_jobs*: number of cpu cores used for training\n",
    "    method: modeling method, choose from ['cbow', 'skip-gram']\n",
    "    \n",
    "    More training parameter can be found https://radimrehurek.com/gensim/models/word2vec.html#gensim.models.word2vec.Word2Vec\n",
    "    '''\n",
    "    \n",
    "    if method.lower() == 'skip-gram':\n",
    "        sg = 1\n",
    "    elif method.lower() == 'cbow':\n",
    "        sg = 0\n",
    "    else:\n",
    "        raise ValueError(\"Invalid option,  choose from ['cbow', 'skip-gram']\")\n",
    "    \n",
    "    model = gensim.models.Word2Vec(corpus, size=vector_size, window=window, min_count=min_count, workers=n_jobs, sg=sg,\n",
    "                              **kwargs)\n",
    "    \n",
    "    if outfile:\n",
    "        model.save(outfile)\n",
    "        \n",
    "    return model\n",
    "\n",
    "class SPE2Vec(object):\n",
    "    pass\n",
    "    "
   ]
  },
  {
   "cell_type": "code",
   "execution_count": null,
   "metadata": {},
   "outputs": [],
   "source": [
    "#hide\n",
    "file = '../experiments/data/smiles_toy.smi'\n",
    "filedir = '../experiments/data/'"
   ]
  },
  {
   "cell_type": "code",
   "execution_count": null,
   "metadata": {},
   "outputs": [],
   "source": [
    "#hide\n",
    "import codecs\n",
    "from SmilesPE.tokenizer import *\n",
    "spe_vob= codecs.open('../SPE_ChEMBL.txt')\n",
    "spe = SPE_Tokenizer(spe_vob)"
   ]
  },
  {
   "cell_type": "code",
   "execution_count": null,
   "metadata": {},
   "outputs": [
    {
     "name": "stdout",
     "output_type": "stream",
     "text": [
      "CPU times: user 2.81 s, sys: 19.6 ms, total: 2.83 s\n",
      "Wall time: 1.05 s\n"
     ]
    }
   ],
   "source": [
    "#hide\n",
    "%%time\n",
    "corpus = Corpus(file, tokenizer = spe) # a memory-friendly iterator\n",
    "model = learn_spe2vec(corpus)"
   ]
  }
 ],
 "metadata": {
  "kernelspec": {
   "display_name": "Python 3",
   "language": "python",
   "name": "python3"
  }
 },
 "nbformat": 4,
 "nbformat_minor": 4
}
