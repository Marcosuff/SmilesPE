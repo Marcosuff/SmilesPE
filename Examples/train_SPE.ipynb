{
 "cells": [
  {
   "cell_type": "code",
   "execution_count": 1,
   "metadata": {},
   "outputs": [],
   "source": [
    "import codecs\n",
    "from SmilesPE.learner import *"
   ]
  },
  {
   "cell_type": "code",
   "execution_count": 2,
   "metadata": {},
   "outputs": [
    {
     "name": "stdout",
     "output_type": "stream",
     "text": [
      "Number of SMILES: 1789388\n"
     ]
    }
   ],
   "source": [
    "file_name = \"./clean_chembl25.smi\"\n",
    "\n",
    "with open(file_name, \"r\") as ins:\n",
    "    SMILES = []\n",
    "    for line in ins:\n",
    "        SMILES.append(line.split('\\n')[0])\n",
    "print('Number of SMILES:', len(SMILES))"
   ]
  },
  {
   "cell_type": "code",
   "execution_count": null,
   "metadata": {},
   "outputs": [
    {
     "name": "stdout",
     "output_type": "stream",
     "text": [
      "Counting SMILES...\n",
      "1695655 unique Canonical SMILES\n"
     ]
    }
   ],
   "source": [
    "%%time\n",
    "output = codecs.open('../SPE_ChEMBL.txt', 'w')\n",
    "learn_SPE(SMILES, output, 30000, min_frequency=2000, augmentation=0, verbose=True, total_symbols=True)"
   ]
  }
 ],
 "metadata": {
  "kernelspec": {
   "display_name": "Python 3",
   "language": "python",
   "name": "python3"
  },
  "language_info": {
   "codemirror_mode": {
    "name": "ipython",
    "version": 3
   },
   "file_extension": ".py",
   "mimetype": "text/x-python",
   "name": "python",
   "nbconvert_exporter": "python",
   "pygments_lexer": "ipython3",
   "version": "3.6.7"
  }
 },
 "nbformat": 4,
 "nbformat_minor": 4
}
